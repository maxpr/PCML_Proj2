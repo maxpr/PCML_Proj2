{
 "cells": [
  {
   "cell_type": "code",
   "execution_count": 8,
   "metadata": {
    "collapsed": false
   },
   "outputs": [
    {
     "ename": "SyntaxError",
     "evalue": "invalid syntax (glove_template.py, line 32)",
     "output_type": "error",
     "traceback": [
      "\u001b[1;36m  File \u001b[1;32m\"C:\\Users\\andre\\Documents\\EPFL\\Boulot\\PCML\\project2\\src\\glove_template.py\"\u001b[1;36m, line \u001b[1;32m32\u001b[0m\n\u001b[1;33m    gradientwi = 2*fn*((np.dot(xs[ix,:],np.transpose(ys[jy,:])-fn)*xs[ix,:]\u001b[0m\n\u001b[1;37m             ^\u001b[0m\n\u001b[1;31mSyntaxError\u001b[0m\u001b[1;31m:\u001b[0m invalid syntax\n"
     ]
    }
   ],
   "source": [
    "# Useful starting lines\n",
    "%matplotlib inline\n",
    "import numpy as np\n",
    "import matplotlib.pyplot as plt\n",
    "from glove_template import *\n",
    "%load_ext autoreload\n",
    "%autoreload 2\n",
    "    \n",
    "# load in data and labels    \n",
    "#data = np.array(np.loadtxt('data/data.txt'))"
   ]
  },
  {
   "cell_type": "code",
   "execution_count": 9,
   "metadata": {
    "collapsed": false
   },
   "outputs": [
    {
     "ename": "SyntaxError",
     "evalue": "invalid syntax (<ipython-input-9-56a0127df782>, line 25)",
     "output_type": "error",
     "traceback": [
      "\u001b[1;36m  File \u001b[1;32m\"<ipython-input-9-56a0127df782>\"\u001b[1;36m, line \u001b[1;32m25\u001b[0m\n\u001b[1;33m    gradientwi = 2*fn*((np.dot(xs[ix,:],np.transpose(ys[jy,:])-fn)*xs[ix,:]\u001b[0m\n\u001b[1;37m             ^\u001b[0m\n\u001b[1;31mSyntaxError\u001b[0m\u001b[1;31m:\u001b[0m invalid syntax\n"
     ]
    }
   ],
   "source": [
    "def glove_template():\n",
    "    print(\"loading cooccurrence matrix\")\n",
    "    with open('data/cooc.pkl', 'rb') as f:\n",
    "        cooc = pickle.load(f)\n",
    "    print(\"{} nonzero entries\".format(cooc.nnz))\n",
    "\n",
    "    nmax = 100\n",
    "    print(\"using nmax =\", nmax, \", cooc.max() =\", cooc.max())\n",
    "\n",
    "    print(\"initializing embeddings\")\n",
    "    embedding_dim = 20\n",
    "    xs = np.random.normal(size=(cooc.shape[0], embedding_dim))\n",
    "    ys = np.random.normal(size=(cooc.shape[1], embedding_dim))\n",
    "\n",
    "    eta = 0.001\n",
    "    alpha = 3 / 4\n",
    "\n",
    "    epochs = 10\n",
    "\n",
    "    for epoch in range(epochs):\n",
    "        print(\"epoch {}\".format(epoch))\n",
    "        for ix, jy, n in zip(cooc.row, cooc.col, cooc.data):\n",
    "            fn = min(1.0, (n / nmax) ** alpha)\n",
    "            cost = fn*np.power((np.dot(xs[ix,:],np.transpose(ys[jy,:]) - fn),2))\n",
    "            gradientwi = 2*fn*((np.dot(xs[ix,:],np.transpose(ys[jy,:])-fn)*xs[ix,:]\n",
    "            gradientwj = 2*fn*((np.dot(xs[ix,:],np.transpose(ys[jy,:])-fn)*ys[jy,:]\n",
    "            xs[ix,:] -= gradientwi*xs[ix,:]\n",
    "            ys[jy,:] -= gradientwj*ys[jy,:]\n",
    "    np.save('data/embeddings', xs)\n",
    "                                \n",
    "glove_template()"
   ]
  }
 ],
 "metadata": {
  "anaconda-cloud": {},
  "kernelspec": {
   "display_name": "Python [Root]",
   "language": "python",
   "name": "Python [Root]"
  },
  "language_info": {
   "codemirror_mode": {
    "name": "ipython",
    "version": 3
   },
   "file_extension": ".py",
   "mimetype": "text/x-python",
   "name": "python",
   "nbconvert_exporter": "python",
   "pygments_lexer": "ipython3",
   "version": "3.5.2"
  }
 },
 "nbformat": 4,
 "nbformat_minor": 0
}
