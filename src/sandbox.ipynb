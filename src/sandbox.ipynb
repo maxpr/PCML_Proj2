{
 "cells": [
  {
   "cell_type": "code",
   "execution_count": 30,
   "metadata": {
    "collapsed": false
   },
   "outputs": [
    {
     "name": "stdout",
     "output_type": "stream",
     "text": [
      "The autoreload extension is already loaded. To reload it, use:\n",
      "  %reload_ext autoreload\n"
     ]
    }
   ],
   "source": [
    "# Useful starting lines\n",
    "%matplotlib inline\n",
    "import numpy as np\n",
    "import pandas as pd\n",
    "import matplotlib.pyplot as plt\n",
    "import sklearn.linear_model as sk\n",
    "from glove_routines import *\n",
    "%load_ext autoreload\n",
    "%autoreload 2\n",
    "\n",
    "ts_neg = np.load('data/trainingset_neg.npy')\n",
    "ts_pos = np.load('data/trainingset_pos.npy')"
   ]
  },
  {
   "cell_type": "code",
   "execution_count": 40,
   "metadata": {
    "collapsed": false,
    "scrolled": true
   },
   "outputs": [
    {
     "name": "stdout",
     "output_type": "stream",
     "text": [
      "End of LR\n"
     ]
    }
   ],
   "source": [
    "#Train a Linear Classifier: Train a linear classifier (e.g. logistic regression or SVM) on your constructed \n",
    "#features, using the scikit learn library, or your own code from the earlier labs. Recall that the labels \n",
    "#indicate if a tweet used to contain a :) or :( smiley.\n",
    "training_set = np.concatenate((ts_neg,ts_pos))\n",
    "y = training_set[:,0]\n",
    "X = training_set[:,1:np.shape(training_set)[1]]\n",
    "LR = sk.LogisticRegression()\n",
    "#http://scikit-learn.org/stable/modules/generated/sklearn.linear_model.LogisticRegression.html\n",
    "LR.fit(X,y)\n",
    "print(\"End of LR\")\n",
    "#LogisticRegression(penalty='l2', dual=False, tol=0.0001, C=1.0, fit_intercept=True, intercept_scaling=1, \n",
    "#class_weight=None, random_state=None, solver='liblinear', max_iter=100, multi_class='ovr', verbose=0, \n",
    "#warm_start=False, n_jobs=1)[source]¶"
   ]
  },
  {
   "cell_type": "code",
   "execution_count": 53,
   "metadata": {
    "collapsed": false,
    "scrolled": true
   },
   "outputs": [],
   "source": [
    "a = LR.coef_\n",
    "az = LR.predict(X[1:100000])\n",
    "bz = LR.predict(X[100000:200000])"
   ]
  },
  {
   "cell_type": "code",
   "execution_count": 58,
   "metadata": {
    "collapsed": false
   },
   "outputs": [
    {
     "name": "stdout",
     "output_type": "stream",
     "text": [
      "27356.0\n",
      "40389.0\n",
      "(200000, 20)\n",
      "100000.0\n"
     ]
    }
   ],
   "source": [
    "print(sum(az))\n",
    "print(sum(bz))\n",
    "print(np.shape(X))\n",
    "print(200000/2)"
   ]
  }
 ],
 "metadata": {
  "anaconda-cloud": {},
  "kernelspec": {
   "display_name": "Python [Root]",
   "language": "python",
   "name": "Python [Root]"
  },
  "language_info": {
   "codemirror_mode": {
    "name": "ipython",
    "version": 3
   },
   "file_extension": ".py",
   "mimetype": "text/x-python",
   "name": "python",
   "nbconvert_exporter": "python",
   "pygments_lexer": "ipython3",
   "version": "3.5.2"
  }
 },
 "nbformat": 4,
 "nbformat_minor": 0
}
