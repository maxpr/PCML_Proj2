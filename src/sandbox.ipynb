{
 "cells": [
  {
   "cell_type": "code",
   "execution_count": 19,
   "metadata": {
    "collapsed": false,
    "scrolled": true
   },
   "outputs": [
    {
     "name": "stdout",
     "output_type": "stream",
     "text": [
      "The autoreload extension is already loaded. To reload it, use:\n",
      "  %reload_ext autoreload\n"
     ]
    }
   ],
   "source": [
    "# Useful starting lines\n",
    "%matplotlib inline\n",
    "import numpy as np\n",
    "import pandas as pd\n",
    "import matplotlib.pyplot as plt\n",
    "import sklearn.linear_model as sk\n",
    "from glove_routines import *\n",
    "from text_classifier import *\n",
    "%load_ext autoreload\n",
    "%autoreload 2"
   ]
  },
  {
   "cell_type": "code",
   "execution_count": 22,
   "metadata": {
    "collapsed": false
   },
   "outputs": [],
   "source": [
    " def update_cost(cost, fn, x, w, z, newW, newZ):\n",
    "    cost = cost - 1/2 * fn* pow(x - np.dot(w,z),2)\n",
    "    cost = cost + 1/2 * fn* pow(x - np.dot(newW, newZ),2)\n",
    "    return cost\n",
    "\n",
    "def glove_SGD(embedding_dim = 20, eta = 0.001, alpha = 3 / 4, epochs = 10, nmax = 100, flags=\"\"):\n",
    "    print(\"loading cooccurrence matrix\")\n",
    "    with open('data/cooc.pkl', 'rb') as f:\n",
    "        cooc = pickle.load(f)\n",
    "    print(\"{} nonzero entries\".format(cooc.nnz))\n",
    "\n",
    "    print(\"using nmax =\", nmax, \", cooc.max() =\", cooc.max())\n",
    "    print(\"initializing parameters : nmax =\",nmax,\",cooc.max() =\", cooc.max(),\", embedding_dim =\",embedding_dim,\", eta =\",eta,\", alpha =\",alpha,\", epochs =\",epochs,\".\")\n",
    "    print(\"initializing embeddings\")\n",
    "    xs = np.random.normal(size=(cooc.shape[0], embedding_dim))\n",
    "    ys = np.random.normal(size=(cooc.shape[1], embedding_dim))\n",
    "    losses = []\n",
    "    cost = 0\n",
    "    print(\"initializing cost\")\n",
    "    for ix, jy, n in zip(cooc.row, cooc.col, cooc.data):\n",
    "        x = np.log(n)\n",
    "        fn = min(1.0, (n / nmax) ** alpha)\n",
    "        w, z = xs[ix, :], ys[jy, :]\n",
    "        WZ = np.dot(w,z)\n",
    "        cost = cost + fn * pow(x - WZ,2)\n",
    "    cost = cost/2\n",
    "    losses.append(cost)\n",
    "    print(cost)\n",
    "    print(\"Running now\")\n",
    "    for epoch in range(epochs):\n",
    "        print(\"epoch {}\".format(epoch))\n",
    "        for ix, jy, n in zip(cooc.row, cooc.col, cooc.data):\n",
    "            logn = np.log(n)\n",
    "            fn = min(1.0, (n / nmax) ** alpha)\n",
    "            x, y = xs[ix, :], ys[jy, :]\n",
    "            scale = 2 * eta * fn * (logn - np.dot(x, y))\n",
    "            newX = np.copy(scale * y + xs[ix, :])\n",
    "            newY = np.copy(scale * x + ys[jy, :])\n",
    "            cost = update_cost(cost,fn,logn,x,y,newX,newY)\n",
    "            xs[ix, :] = newX\n",
    "            ys[jy, :] = newY\n",
    "            losses.append(cost)\n",
    "    np.save(str('data/embeddings'+flags), xs)\n",
    "    return losses"
   ]
  },
  {
   "cell_type": "code",
   "execution_count": null,
   "metadata": {
    "collapsed": false
   },
   "outputs": [
    {
     "name": "stdout",
     "output_type": "stream",
     "text": [
      "loading cooccurrence matrix\n",
      "6496907 nonzero entries\n",
      "using nmax = 100 , cooc.max() = 207302\n",
      "initializing parameters : nmax = 100 ,cooc.max() = 207302 , embedding_dim = 20 , eta = 0.001 , alpha = 0.75 , epochs = 1 .\n",
      "initializing embeddings\n",
      "initializing cost\n",
      "7249766.28328\n",
      "Running now\n",
      "epoch 0\n"
     ]
    }
   ],
   "source": [
    "losses = glove_SGD(flags=\"test\",epochs=1)"
   ]
  },
  {
   "cell_type": "code",
   "execution_count": 31,
   "metadata": {
    "collapsed": false
   },
   "outputs": [
    {
     "name": "stdout",
     "output_type": "stream",
     "text": [
      "(6496908,)\n"
     ]
    },
    {
     "data": {
      "image/png": "[encoded data removed]",
      "text/plain": [
       "<matplotlib.figure.Figure at 0x2409ac6b0b8>"
      ]
     },
     "metadata": {},
     "output_type": "display_data"
    }
   ],
   "source": [
    "plt.plot(losses)\n",
    "print(np.shape(losses))"
   ]
  }
 ],
 "metadata": {
  "anaconda-cloud": {},
  "kernelspec": {
   "display_name": "Python [conda root]",
   "language": "python",
   "name": "conda-root-py"
  },
  "language_info": {
   "codemirror_mode": {
    "name": "ipython",
    "version": 3
   },
   "file_extension": ".py",
   "mimetype": "text/x-python",
   "name": "python",
   "nbconvert_exporter": "python",
   "pygments_lexer": "ipython3",
   "version": "3.5.2"
  }
 },
 "nbformat": 4,
 "nbformat_minor": 0
}
