{
 "cells": [
  {
   "cell_type": "code",
   "execution_count": 152,
   "metadata": {
    "collapsed": false,
    "scrolled": true
   },
   "outputs": [
    {
     "name": "stdout",
     "output_type": "stream",
     "text": [
      "The autoreload extension is already loaded. To reload it, use:\n",
      "  %reload_ext autoreload\n"
     ]
    }
   ],
   "source": [
    "# Useful starting lines\n",
    "%matplotlib inline\n",
    "import numpy as np\n",
    "import pandas as pd\n",
    "import matplotlib.pyplot as plt\n",
    "import sklearn.linear_model as sk\n",
    "from glove_routines import *\n",
    "from text_classifier import *\n",
    "from matrix_facto_tester import *\n",
    "%load_ext autoreload\n",
    "%autoreload 2"
   ]
  },
  {
   "cell_type": "code",
   "execution_count": null,
   "metadata": {
    "collapsed": false
   },
   "outputs": [
    {
     "name": "stdout",
     "output_type": "stream",
     "text": [
      "Constructing features for embeddings_emb30_eta0.01_alpha1_nmax800_epochs1.npy\n",
      "   Calculation error\n"
     ]
    }
   ],
   "source": [
    "def test_embeddings(flag=\"\"):\n",
    "    #Load the training set\n",
    "    path_neg = str(\"data/trainingset_neg\"+flag+\".npy\")\n",
    "    path_pos = str(\"data/trainingset_pos\"+flag+\".npy\")\n",
    "    ts_neg = np.load(path_neg)\n",
    "    ts_pos = np.load(path_pos)    \n",
    "    #Train a Linear Classifier: Train a linear classifier (e.g. logistic regression or SVM) on your constructed \n",
    "    #features, using the scikit learn library, or your own code from the earlier labs. Recall that the labels \n",
    "    #indicate if a tweet used to contain a :) or :( smiley.\n",
    "    training_set = np.concatenate((ts_neg,ts_pos))\n",
    "    y = training_set[:,0]\n",
    "    X = training_set[:,1:np.shape(training_set)[1]]\n",
    "    X = build_poly(X,2)\n",
    "    \n",
    "    #Construct the logistic regressor\n",
    "    LR = sk.LogisticRegressionCV()\n",
    "    #LogisticRegression(penalty='l2', dual=False, tol=0.0001, C=1.0, fit_intercept=True, intercept_scaling=1, \n",
    "    #class_weight=None, random_state=None, solver='liblinear', max_iter=100, multi_class='ovr', verbose=0, \n",
    "    #warm_start=False, n_jobs=1)[source]¶\n",
    "    #http://scikit-learn.org/stable/modules/generated/sklearn.linear_model.LogisticRegression.html\n",
    "    #train the logistic regressor\n",
    "    nsplits = 5\n",
    "    average_error=0\n",
    "    kf = ms.KFold(n_splits=nsplits,shuffle=True)\n",
    "    for train_idx, test_idx in kf.split(X):\n",
    "        train_set = X[train_idx]\n",
    "        test_set = X[test_idx]\n",
    "        train_target = y[train_idx]\n",
    "        test_target = y[test_idx]    \n",
    "        LR.fit(train_set,train_target)\n",
    "        predictions_temp = LR.predict(test_set)\n",
    "        error = np.sum(np.power(predictions_temp-test_target,2))/np.shape(predictions_temp)[0]\n",
    "        average_error+=error\n",
    "    average_error = average_error/nsplits\n",
    "    return average_error\n",
    "\n",
    "\n",
    "def test_all_embeddings():\n",
    "    for subdir, dirs, files in os.walk('embeddings'):\n",
    "        i=0\n",
    "        for file in files:\n",
    "            i+=1\n",
    "            flag = str(\"_test_\"+str(i))\n",
    "            print(\"Constructing features for\",file)\n",
    "            construct_features('embeddings/'+str(file),flag)\n",
    "            print(\"   Calculation error\")\n",
    "            error = test_embeddings(flag)\n",
    "            print(\"   For file : \",file)\n",
    "            print(\"   Error is:\",error)\n",
    "            \n",
    "test_all_embeddings()"
   ]
  },
  {
   "cell_type": "code",
   "execution_count": 6,
   "metadata": {
    "collapsed": false
   },
   "outputs": [
    {
     "name": "stdout",
     "output_type": "stream",
     "text": [
      "embeddings_emb100_eta0.01_alpha0.75_nmax150_epochs4.npy\n"
     ]
    },
    {
     "ename": "AssertionError",
     "evalue": "",
     "output_type": "error",
     "traceback": [
      "\u001b[1;31m---------------------------------------------------------------------------\u001b[0m",
      "\u001b[1;31mAssertionError\u001b[0m                            Traceback (most recent call last)",
      "\u001b[1;32m<ipython-input-6-509e27a31f05>\u001b[0m in \u001b[0;36m<module>\u001b[1;34m()\u001b[0m\n\u001b[0;32m     55\u001b[0m             \u001b[1;32massert\u001b[0m \u001b[1;36m0\u001b[0m\u001b[1;33m==\u001b[0m\u001b[1;36m1\u001b[0m\u001b[1;33m\u001b[0m\u001b[0m\n\u001b[0;32m     56\u001b[0m             \u001b[0mconstruct_features\u001b[0m\u001b[1;33m(\u001b[0m\u001b[1;34m\"embeddings/\"\u001b[0m\u001b[1;33m+\u001b[0m\u001b[0mfile\u001b[0m\u001b[1;33m)\u001b[0m\u001b[1;33m\u001b[0m\u001b[0m\n\u001b[1;32m---> 57\u001b[1;33m \u001b[0mtest\u001b[0m\u001b[1;33m(\u001b[0m\u001b[1;33m)\u001b[0m\u001b[1;33m\u001b[0m\u001b[0m\n\u001b[0m",
      "\u001b[1;32m<ipython-input-6-509e27a31f05>\u001b[0m in \u001b[0;36mtest\u001b[1;34m()\u001b[0m\n\u001b[0;32m     53\u001b[0m         \u001b[1;32mfor\u001b[0m \u001b[0mfile\u001b[0m \u001b[1;32min\u001b[0m \u001b[0mfiles\u001b[0m\u001b[1;33m:\u001b[0m\u001b[1;33m\u001b[0m\u001b[0m\n\u001b[0;32m     54\u001b[0m             \u001b[0mprint\u001b[0m\u001b[1;33m(\u001b[0m\u001b[0mfile\u001b[0m\u001b[1;33m)\u001b[0m\u001b[1;33m\u001b[0m\u001b[0m\n\u001b[1;32m---> 55\u001b[1;33m             \u001b[1;32massert\u001b[0m \u001b[1;36m0\u001b[0m\u001b[1;33m==\u001b[0m\u001b[1;36m1\u001b[0m\u001b[1;33m\u001b[0m\u001b[0m\n\u001b[0m\u001b[0;32m     56\u001b[0m             \u001b[0mconstruct_features\u001b[0m\u001b[1;33m(\u001b[0m\u001b[1;34m\"embeddings/\"\u001b[0m\u001b[1;33m+\u001b[0m\u001b[0mfile\u001b[0m\u001b[1;33m)\u001b[0m\u001b[1;33m\u001b[0m\u001b[0m\n\u001b[0;32m     57\u001b[0m \u001b[0mtest\u001b[0m\u001b[1;33m(\u001b[0m\u001b[1;33m)\u001b[0m\u001b[1;33m\u001b[0m\u001b[0m\n",
      "\u001b[1;31mAssertionError\u001b[0m: "
     ]
    }
   ],
   "source": [
    "def construct_features(embeddings_file=\"data/embeddings.npy\", flag_save=\"\"):\n",
    "    '''\n",
    "    construct a feature representation of each training tweet \n",
    "    (by averaging the word vectors over all words of the tweet).\n",
    "    '''\n",
    "    #Load the training tweets and the built GloVe word embeddings.\n",
    "    pos_train = open('data/pos_train.txt').readlines()\n",
    "    neg_train = open('data/neg_train.txt').readlines()\n",
    "    embeddings = np.load(embeddings_file)\n",
    "\n",
    "    \n",
    "    #count number of word/tweet and store it\n",
    "    word_nbr_per_tweet_pos = np.zeros(np.shape(pos_train)[0])\n",
    "    for j in range(0,np.shape(pos_train)[0]):\n",
    "        tweet = pos_train[j]\n",
    "        size = len(re.findall(r'\\w+', tweet))\n",
    "        word_nbr_per_tweet_pos[j] = size\n",
    "        \n",
    "    word_nbr_per_tweet_neg = np.zeros(np.shape(neg_train)[0])\n",
    "    for j in range(0,np.shape(neg_train)[0]):\n",
    "        tweet = neg_train[j]\n",
    "        size = len(re.findall(r'\\w+', tweet))\n",
    "        word_nbr_per_tweet_neg[j] = size\n",
    "    \n",
    "    i=0\n",
    "    pos_mask = np.zeros(np.shape(embeddings)[1]+1)\n",
    "    pos_mask[0] +=1\n",
    "    #adding 1 at start : this is target (1 is for happy emoji, 0 or -1 for sad face)\n",
    "    training_set_pos = np.zeros(((np.shape(pos_train)[0],np.shape(embeddings)[1]+1))) + pos_mask\n",
    "    training_set_neg = np.zeros(((np.shape(neg_train)[0],np.shape(embeddings)[1]+1)))\n",
    "    vocab = open('data/vocab_cut.txt')\n",
    "    #for each word, search if it is in pos_train or neg_train\n",
    "    for word_ in vocab:\n",
    "        word = word_.split(\"\\n\")[0]\n",
    "        current_emb = embeddings[i]\n",
    "        for j in range(0,np.shape(pos_train)[0]):\n",
    "            #if yes, add its embeddings.\n",
    "            if word in pos_train[j]:\n",
    "                training_set_pos[j,1:np.shape(embeddings)[1]+1] += current_emb\n",
    "        for j in range(0,np.shape(neg_train)[0]):\n",
    "            if word in neg_train[j]:\n",
    "                training_set_neg[j,1:np.shape(embeddings)[1]+1] += current_emb\n",
    "        i+=1\n",
    "    #then divide by number of words (averaging word vector over all words of the tweet)\n",
    "    for i in range(0,np.shape(embeddings)[1]):\n",
    "        training_set_pos[:,i+1] = training_set_pos[:,i+1]/word_nbr_per_tweet_pos\n",
    "        training_set_neg[:,i+1] = training_set_neg[:,i+1]/word_nbr_per_tweet_neg\n",
    "    np.save(str('data/trainingset_pos')+flag_save, training_set_pos)\n",
    "    np.save(str('data/trainingset_neg')+flag_save, training_set_neg)\n",
    "    \n",
    "def test():\n",
    "     for subdir, dirs, files in os.walk('embeddings'):\n",
    "        for file in files:\n",
    "            print(file)\n",
    "            assert 0==1\n",
    "            construct_features(\"embeddings/\"+file)\n",
    "test()"
   ]
  },
  {
   "cell_type": "code",
   "execution_count": 120,
   "metadata": {
    "collapsed": false
   },
   "outputs": [
    {
     "name": "stdout",
     "output_type": "stream",
     "text": [
      "227 results found.\n"
     ]
    },
    {
     "data": {
      "image/png": "[encoded data removed]",
      "text/plain": [
       "<matplotlib.figure.Figure at 0x1be550f0fd0>"
      ]
     },
     "metadata": {},
     "output_type": "display_data"
    }
   ],
   "source": [
    "def fix_param(data,idx,value):\n",
    "    assert ((data[:,idx]==value).any())\n",
    "    newdata = []\n",
    "    for i in range(0,np.shape(data)[0]):\n",
    "        if(data[i,idx]==value):\n",
    "\n",
    "            newdata.append(data[i])\n",
    "    #print(newdata)\n",
    "    return recreate_param(newdata)\n",
    "\n",
    "def recreate_param(data):\n",
    "    x = np.shape(data)[0]\n",
    "    y = np.shape(data)[1]\n",
    "    param = np.zeros((x,y))\n",
    "    for i in range(0,x):\n",
    "        for j in range(0,y):\n",
    "            param[i,j] = data[i][j]\n",
    "    return param\n",
    "from mpl_toolkits.mplot3d import Axes3D\n",
    "def show_graph():\n",
    "    embedding_dim = [5, 30, 50, 100, 200]\n",
    "    for subdir, dirs, files in os.walk('metadata'):\n",
    "        size = np.shape(files)[0]\n",
    "        losses = np.zeros(size)\n",
    "        names = []\n",
    "        param = []\n",
    "        i=0\n",
    "        for file in files:\n",
    "            f = np.load('metadata/'+str(file))\n",
    "            losses[i] = f\n",
    "            names.append(file)\n",
    "            p = extrac_param(file)\n",
    "            p.append(f)\n",
    "            param.append(p)\n",
    "            i+=1\n",
    "    print(np.shape(names)[0], \"results found.\")\n",
    "    param = recreate_param(param)\n",
    "    fixed_emb = fix_param(param,0,5)\n",
    "    fixed_eta = fix_param(fixed_emb,1,0.01)\n",
    "    xs = fixed_eta[:,2]\n",
    "    ys = fixed_eta[:,3]\n",
    "    zs = fixed_eta[:,5]\n",
    "    plt.figure()\n",
    "    plt.subplot(121)\n",
    "    plt.axis([min(xs)*0.9,max(xs)*1.1,min(zs)*0.9,max(zs)*1.1])\n",
    "    plt.plot(xs,zs,'ro')\n",
    "    plt.subplot(122)\n",
    "    plt.xscale('log')\n",
    "    plt.axis([min(ys)*0.9,max(ys)*1.1,min(zs)*0.9,max(zs)*1.1])\n",
    "\n",
    "    plt.plot(ys,zs,'yo')\n",
    "show_graph()"
   ]
  },
  {
   "cell_type": "code",
   "execution_count": null,
   "metadata": {
    "collapsed": false
   },
   "outputs": [],
   "source": []
  }
 ],
 "metadata": {
  "anaconda-cloud": {},
  "kernelspec": {
   "display_name": "Python [Root]",
   "language": "python",
   "name": "Python [Root]"
  },
  "language_info": {
   "codemirror_mode": {
    "name": "ipython",
    "version": 3
   },
   "file_extension": ".py",
   "mimetype": "text/x-python",
   "name": "python",
   "nbconvert_exporter": "python",
   "pygments_lexer": "ipython3",
   "version": "3.5.2"
  }
 },
 "nbformat": 4,
 "nbformat_minor": 0
}
