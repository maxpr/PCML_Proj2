{
 "cells": [
  {
   "cell_type": "code",
   "execution_count": 2,
   "metadata": {
    "collapsed": false,
    "scrolled": true
   },
   "outputs": [],
   "source": [
    "# Useful starting lines\n",
    "%matplotlib inline\n",
    "import numpy as np\n",
    "import pandas as pd\n",
    "import matplotlib.pyplot as plt\n",
    "from glove_routines import *\n",
    "from text_classifier import *\n",
    "%load_ext autoreload\n",
    "%autoreload 2"
   ]
  },
  {
   "cell_type": "code",
   "execution_count": 10,
   "metadata": {
    "collapsed": false,
    "scrolled": true
   },
   "outputs": [
    {
     "name": "stdout",
     "output_type": "stream",
     "text": [
      "doing : _emb5_eta0.01_alpha1_nmax400_epochs1\n",
      "initializing cost\n",
      "1069590.25686\n",
      "epoch 0\n",
      "Saving!\n",
      "981254.690167\n",
      "DONE : _emb5_eta0.01_alpha1_nmax400_epochs1\n",
      "doing : _emb5_eta0.01_alpha1_nmax600_epochs1\n",
      "initializing cost\n",
      "827367.766327\n",
      "epoch 0\n",
      "Saving!\n",
      "759647.723325\n",
      "DONE : _emb5_eta0.01_alpha1_nmax600_epochs1\n",
      "doing : _emb5_eta0.01_alpha1_nmax800_epochs1\n",
      "initializing cost\n",
      "676768.452066\n",
      "epoch 0\n",
      "Saving!\n",
      "621389.684004\n",
      "DONE : _emb5_eta0.01_alpha1_nmax800_epochs1\n",
      "doing : _emb5_eta0.01_alpha1_nmax12000_epochs1\n",
      "initializing cost\n",
      "79810.5931657\n",
      "epoch 0\n",
      "Saving!\n",
      "72608.358952\n",
      "DONE : _emb5_eta0.01_alpha1_nmax12000_epochs1\n",
      "doing : _emb30_eta0.01_alpha1_nmax400_epochs1\n",
      "initializing cost\n",
      "2340088.02353\n",
      "epoch 0\n",
      "Saving!\n",
      "2088729.51723\n",
      "DONE : _emb30_eta0.01_alpha1_nmax400_epochs1\n",
      "doing : _emb30_eta0.01_alpha1_nmax600_epochs1\n",
      "initializing cost\n",
      "1639342.77437\n",
      "epoch 0\n",
      "Saving!\n",
      "1453581.45547\n",
      "DONE : _emb30_eta0.01_alpha1_nmax600_epochs1\n",
      "doing : _emb30_eta0.01_alpha1_nmax800_epochs1\n",
      "initializing cost\n",
      "1311163.71346\n",
      "epoch 0\n",
      "Saving!\n",
      "1153736.02167\n",
      "DONE : _emb30_eta0.01_alpha1_nmax800_epochs1\n",
      "doing : _emb30_eta0.01_alpha1_nmax12000_epochs1\n",
      "initializing cost\n",
      "134313.4571\n",
      "epoch 0\n",
      "Saving!\n",
      "112966.235028\n",
      "DONE : _emb30_eta0.01_alpha1_nmax12000_epochs1\n",
      "doing : _emb50_eta0.01_alpha1_nmax400_epochs1\n",
      "initializing cost\n",
      "3232263.32832\n",
      "epoch 0\n",
      "Saving!\n",
      "2991871.30463\n",
      "DONE : _emb50_eta0.01_alpha1_nmax400_epochs1\n",
      "doing : _emb50_eta0.01_alpha1_nmax600_epochs1\n",
      "initializing cost\n",
      "2265917.3878\n",
      "epoch 0\n",
      "Saving!\n",
      "2106916.37981\n",
      "DONE : _emb50_eta0.01_alpha1_nmax600_epochs1\n",
      "doing : _emb50_eta0.01_alpha1_nmax800_epochs1\n",
      "initializing cost\n",
      "1849954.082\n",
      "epoch 0\n",
      "Saving!\n",
      "1717550.36182\n",
      "DONE : _emb50_eta0.01_alpha1_nmax800_epochs1\n",
      "doing : _emb50_eta0.01_alpha1_nmax12000_epochs1\n",
      "initializing cost\n",
      "183367.224806\n",
      "epoch 0\n",
      "Saving!\n",
      "164374.352846\n",
      "DONE : _emb50_eta0.01_alpha1_nmax12000_epochs1\n"
     ]
    }
   ],
   "source": [
    "from ploter import *\n",
    "from glove_routines import *\n",
    "\n",
    "def create_results():\n",
    "    embedding_dim = [5, 30, 50]\n",
    "    eta = [0.01]\n",
    "    alpha = [1]\n",
    "    nmax = [400, 600, 800, 12000]\n",
    "    epochs = [1]\n",
    "    costs = []\n",
    "    for emb in embedding_dim:\n",
    "        for e in eta:\n",
    "            for a in alpha:\n",
    "                for nm in nmax:\n",
    "                    for ep in epochs:\n",
    "                        flag = str(\"_emb\"+str(emb)+\"_eta\"+str(e)+\"_alpha\"+str(a)+\"_nmax\"+str(nm)+\"_epochs\"+str(ep))\n",
    "                        print(\"doing :\",flag)\n",
    "                        cost = glove_SGD(embedding_dim=emb, eta=e, alpha=a, nmax=nm, epochs=ep,flags=flag, track_losses=0)\n",
    "                        print(\"DONE :\",flag)\n",
    "                        costs.append(cost)\n",
    "                        \n",
    "def update_cost(cost, fn, x, w, z, newW, newZ, debug=False):\n",
    "    if(debug):\n",
    "        print(cost)\n",
    "        print(fn)\n",
    "        print(x)\n",
    "        print(w)\n",
    "        print(z)\n",
    "        print(newW)\n",
    "        print(newZ)\n",
    "    cost = cost - 1/2 * fn* pow(x - np.dot(w,z),2)\n",
    "    if(debug):\n",
    "        print(cost)\n",
    "    cost = cost + 1/2 * fn* pow(x - np.dot(newW, newZ),2)\n",
    "    if(debug):\n",
    "        print(cost)\n",
    "    return cost\n",
    "\n",
    "import math\n",
    "def glove_SGD(embedding_dim = 20, eta = 0.001, alpha = 3 / 4, nmax = 100, epochs = 10, track_losses = -1, flags=\"\"):\n",
    "    '''\n",
    "    Create the embeddings.npy (and the embeddings_cost.npy) needed to perform logistic regression later.\n",
    "    Params :\n",
    "        embedding_dim is the size of the vectors associated to each word\n",
    "        eta is the learning rate\n",
    "        alpha is the power used in the weight function f which gives importance to each entry. alpha must be between 0 and 1.\n",
    "        nmax is the diviser used in the weight function f.\n",
    "        epochs is the number of time the SGD will be perform.\n",
    "        track_losses must be >0 if the loss must be track. The function will return an array of the evolution of the loss (computed at each iteration i%track_loss==0) if the track_losses>0.\n",
    "        flags allows to modify the name of the file created by this function     \n",
    "    Return : If track_losses = -1, nothing, else if track_losses = 0, only the last loss, and if track_loss>0, the evolution of the loss (array)\n",
    "    '''\n",
    "    #test\n",
    "    assert track_losses>=-1\n",
    "    assert alpha>=0\n",
    "    assert alpha<=1\n",
    "    assert embedding_dim>0\n",
    "    assert epochs>0\n",
    "    #End of test\n",
    "    #print(\"loading cooccurrence matrix\")\n",
    "    with open('data/cooc.pkl', 'rb') as f:\n",
    "        cooc = pickle.load(f)\n",
    "    #print(\"{} nonzero entries\".format(cooc.nnz))\n",
    "    #print(\"initializing parameters : nmax =\",nmax,\",cooc.max() =\", cooc.max(),\", embedding_dim =\",embedding_dim,\", eta =\",eta,\", alpha =\",alpha,\", epochs =\",epochs,\".\")\n",
    "    #print(\"initializing embeddings\")\n",
    "    xs = np.random.normal(size=(cooc.shape[0], embedding_dim))\n",
    "    ys = np.random.normal(size=(cooc.shape[1], embedding_dim))\n",
    "    cost = 0\n",
    "    if(track_losses>=0):\n",
    "        print(\"initializing cost\")\n",
    "        for ix, jy, n in zip(cooc.row, cooc.col, cooc.data):\n",
    "            x = np.log(n)\n",
    "            fn = min(1.0, (n / nmax) ** alpha)\n",
    "            w, z = xs[ix, :], ys[jy, :]\n",
    "            WZ = np.dot(w,z)\n",
    "            cost = cost + fn * pow(x - WZ,2)\n",
    "        cost = cost/2\n",
    "        if(track_losses>0):\n",
    "            losses = []\n",
    "            losses.append(cost)\n",
    "    #print(\"Running now\")\n",
    "    i = 0\n",
    "    print(cost)\n",
    "    for epoch in range(epochs):\n",
    "        print(\"epoch {}\".format(epoch))\n",
    "        for ix, jy, n in zip(cooc.row, cooc.col, cooc.data):\n",
    "            logn = np.log(n)\n",
    "            fn = min(1.0, (n / nmax) ** alpha)\n",
    "            x, y = xs[ix, :], ys[jy, :]\n",
    "            scale = 2 * eta * fn * (logn - np.dot(x, y))\n",
    "            newX = np.copy(scale * y + xs[ix, :])\n",
    "            newY = np.copy(scale * x + ys[jy, :])\n",
    "            if(track_losses>=0):\n",
    "                ncost = update_cost(cost,fn,logn,x,y,newX,newY)\n",
    "                if(math.isnan(ncost) or math.isinf(ncost)):\n",
    "                    print(cost)\n",
    "                    update_cost(cost,fn,logn,x,y,newX,newY,True)\n",
    "                    assert cost==0\n",
    "                cost = ncost\n",
    "            xs[ix, :] = newX\n",
    "            ys[jy, :] = newY\n",
    "            if(track_losses>0):\n",
    "                if(i%track_losses==0):\n",
    "                    losses.append(cost)\n",
    "    np.save(str('data/embeddings'+flags), xs)\n",
    "    if(track_losses>0):\n",
    "        np.save(str('metadata/embeddings_cost'+flags),losses)\n",
    "        return losses\n",
    "    if(track_losses==0):\n",
    "        print(\"Saving!\")\n",
    "        print(cost)\n",
    "        if(cost==np.nan):\n",
    "            print(\"SCNAAAAANDALE\")\n",
    "        np.save(str('metadata/embeddings_cost'+flags),cost)\n",
    "        return cost\n",
    "create_results()"
   ]
  },
  {
   "cell_type": "code",
   "execution_count": 6,
   "metadata": {
    "collapsed": false
   },
   "outputs": [
    {
     "name": "stdout",
     "output_type": "stream",
     "text": [
      "nan\n",
      "lol\n"
     ]
    }
   ],
   "source": [
    "import math\n",
    "ezf = np.nan\n",
    "print(ezf)\n",
    "if(math.isnan(ezf)):\n",
    "    print(\"lol\")"
   ]
  },
  {
   "cell_type": "code",
   "execution_count": 88,
   "metadata": {
    "collapsed": false
   },
   "outputs": [
    {
     "data": {
      "text/plain": [
       "[<matplotlib.lines.Line2D at 0x1fea0aca7b8>]"
      ]
     },
     "execution_count": 88,
     "metadata": {},
     "output_type": "execute_result"
    },
    {
     "data": {
      "image/png": "[encoded data removed]",
      "text/plain": [
       "<matplotlib.figure.Figure at 0x1feb2d753c8>"
      ]
     },
     "metadata": {},
     "output_type": "display_data"
    }
   ],
   "source": [
    "a = np.arange(10)\n",
    "b = np.arange(2)\n",
    "plt.figure()\n",
    "plt.subplot(221)\n",
    "plt.plot(a)\n",
    "plt.subplot(222)\n",
    "plt.plot(b)\n",
    "plt.subplot(223)\n",
    "plt.plot(a)\n",
    "plt.subplot(224)\n",
    "plt.plot(b)"
   ]
  },
  {
   "cell_type": "code",
   "execution_count": null,
   "metadata": {
    "collapsed": false
   },
   "outputs": [],
   "source": []
  }
 ],
 "metadata": {
  "anaconda-cloud": {},
  "kernelspec": {
   "display_name": "Python [conda root]",
   "language": "python",
   "name": "conda-root-py"
  },
  "language_info": {
   "codemirror_mode": {
    "name": "ipython",
    "version": 3
   },
   "file_extension": ".py",
   "mimetype": "text/x-python",
   "name": "python",
   "nbconvert_exporter": "python",
   "pygments_lexer": "ipython3",
   "version": "3.5.2"
  }
 },
 "nbformat": 4,
 "nbformat_minor": 0
}
